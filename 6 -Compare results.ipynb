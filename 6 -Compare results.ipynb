{
 "cells": [
  {
   "cell_type": "code",
   "execution_count": 8,
   "metadata": {},
   "outputs": [
    {
     "name": "stdout",
     "output_type": "stream",
     "text": [
      "Means ARIMA with dataset 2019 information:\n",
      "mse     82.691345\n",
      "rmse     2.907628\n",
      "mae      2.508719\n",
      "dtype: float64\n",
      "\n",
      "Means ARIMAX with all information we have:\n",
      "mse     85.126772\n",
      "rmse     3.002810\n",
      "mae      2.655007\n",
      "dtype: float64\n"
     ]
    }
   ],
   "source": [
    "import pandas as pd\n",
    "\n",
    "# loading csv files\n",
    "metrics_2019 = pd.read_csv('2019_mse_results.csv')\n",
    "metrics_all_arimax = pd.read_csv('metrics_results_arimax.csv')\n",
    "\n",
    "# Calculate means Metrics DataFrame metrics_all\n",
    "mean_metrics_2019 = metrics_2019[['mse', 'rmse', 'mae']].mean()\n",
    "\n",
    "# Calculate Metrics DataFrame metrics_2019_arimax\n",
    "mean_metrics_2019_arimax = metrics_all_arimax[['mse', 'rmse', 'mae']].mean()\n",
    "\n",
    "# Imprimir os resultados\n",
    "print(\"Means ARIMA with dataset 2019 information:\")\n",
    "print(mean_metrics_2019)\n",
    "print(\"\\nMeans ARIMAX with all information we have:\")\n",
    "print(mean_metrics_2019_arimax)"
   ]
  },
  {
   "cell_type": "markdown",
   "metadata": {},
   "source": [
    " # CONCLUSION\n",
    " ### This ARIMA model performs better with the 2019 dataset, while the ARIMAX model performs better when using all the data we have."
   ]
  }
 ],
 "metadata": {
  "kernelspec": {
   "display_name": "Python 3",
   "language": "python",
   "name": "python3"
  },
  "language_info": {
   "codemirror_mode": {
    "name": "ipython",
    "version": 3
   },
   "file_extension": ".py",
   "mimetype": "text/x-python",
   "name": "python",
   "nbconvert_exporter": "python",
   "pygments_lexer": "ipython3",
   "version": "3.11.5"
  }
 },
 "nbformat": 4,
 "nbformat_minor": 2
}
