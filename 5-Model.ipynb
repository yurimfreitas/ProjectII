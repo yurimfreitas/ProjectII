{
 "cells": [
  {
   "cell_type": "code",
   "execution_count": 1,
   "metadata": {},
   "outputs": [],
   "source": [
    "# packages gerais\n",
    "import pandas as pd\n",
    "import joblib\n",
    "\n",
    "# df_sales_ dataset\n",
    "df_sales_filtered = joblib.load('df_sales_filtered.pkl')"
   ]
  },
  {
   "cell_type": "code",
   "execution_count": 2,
   "metadata": {},
   "outputs": [
    {
     "name": "stdout",
     "output_type": "stream",
     "text": [
      "<class 'pandas.core.frame.DataFrame'>\n",
      "Index: 1382485 entries, 757 to 8815748\n",
      "Data columns (total 28 columns):\n",
      " #   Column                 Non-Null Count    Dtype         \n",
      "---  ------                 --------------    -----         \n",
      " 0   ID                     1382485 non-null  int64         \n",
      " 1   store_id               1382485 non-null  object        \n",
      " 2   product_id             1382485 non-null  object        \n",
      " 3   date                   1382485 non-null  datetime64[ns]\n",
      " 4   sales                  1382485 non-null  float64       \n",
      " 5   revenue                1382485 non-null  float64       \n",
      " 6   stock                  1382485 non-null  float64       \n",
      " 7   price                  1382485 non-null  float64       \n",
      " 8   promo_type_1           1382485 non-null  object        \n",
      " 9   promo_bin_1            1382485 non-null  object        \n",
      " 10  promo_type_2           1382485 non-null  object        \n",
      " 11  promo_bin_2            1382485 non-null  object        \n",
      " 12  promo_discount_2       1382485 non-null  float64       \n",
      " 13  promo_discount_type_2  1382485 non-null  object        \n",
      " 14  storetype_id           1382485 non-null  object        \n",
      " 15  store_size             1382485 non-null  int64         \n",
      " 16  city_id_old            1382485 non-null  object        \n",
      " 17  country_id             1382485 non-null  object        \n",
      " 18  city_code              1382485 non-null  object        \n",
      " 19  product_length         1382485 non-null  float64       \n",
      " 20  product_depth          1382485 non-null  float64       \n",
      " 21  product_width          1382485 non-null  float64       \n",
      " 22  cluster_id             1382485 non-null  object        \n",
      " 23  hierarchy1_id          1382485 non-null  object        \n",
      " 24  hierarchy2_id          1382485 non-null  object        \n",
      " 25  hierarchy3_id          1382485 non-null  object        \n",
      " 26  hierarchy4_id          1382485 non-null  object        \n",
      " 27  hierarchy5_id          1382485 non-null  object        \n",
      "dtypes: datetime64[ns](1), float64(8), int64(2), object(17)\n",
      "memory usage: 305.9+ MB\n"
     ]
    }
   ],
   "source": [
    "df_sales_filtered.info()"
   ]
  }
 ],
 "metadata": {
  "kernelspec": {
   "display_name": "Python 3",
   "language": "python",
   "name": "python3"
  },
  "language_info": {
   "codemirror_mode": {
    "name": "ipython",
    "version": 3
   },
   "file_extension": ".py",
   "mimetype": "text/x-python",
   "name": "python",
   "nbconvert_exporter": "python",
   "pygments_lexer": "ipython3",
   "version": "3.12.4"
  }
 },
 "nbformat": 4,
 "nbformat_minor": 2
}
