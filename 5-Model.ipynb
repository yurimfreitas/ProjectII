{
 "cells": [
  {
   "cell_type": "code",
   "execution_count": 1,
   "metadata": {},
   "outputs": [],
   "source": [
    "# packages gerais\n",
    "import pandas as pd\n",
    "import joblib\n",
    "\n",
    "# df_sales_ dataset\n",
    "df_sales_filtered = joblib.load('df_sales_filtered.pkl')"
   ]
  },
  {
   "cell_type": "code",
   "execution_count": 112,
   "metadata": {},
   "outputs": [
    {
     "name": "stdout",
     "output_type": "stream",
     "text": [
      "<class 'pandas.core.frame.DataFrame'>\n",
      "Index: 1382485 entries, 1622 to 8801647\n",
      "Data columns (total 8 columns):\n",
      " #   Column      Non-Null Count    Dtype         \n",
      "---  ------      --------------    -----         \n",
      " 0   ID          1382485 non-null  int64         \n",
      " 1   store_id    1382485 non-null  object        \n",
      " 2   product_id  1382485 non-null  object        \n",
      " 3   date        1382485 non-null  datetime64[ns]\n",
      " 4   sales       1382485 non-null  float64       \n",
      " 5   revenue     1382485 non-null  float64       \n",
      " 6   stock       1382485 non-null  float64       \n",
      " 7   price       1382485 non-null  float64       \n",
      "dtypes: datetime64[ns](1), float64(4), int64(1), object(2)\n",
      "memory usage: 94.9+ MB\n"
     ]
    }
   ],
   "source": [
    "# select important column\n",
    "df_sales_filtered = df_sales_comp.loc[:, ['ID', 'store_id', 'product_id', 'date', 'sales', 'revenue', 'stock', 'price']]\n",
    "\n",
    "df_sales_filtered.info()"
   ]
  }
 ],
 "metadata": {
  "kernelspec": {
   "display_name": "Python 3",
   "language": "python",
   "name": "python3"
  },
  "language_info": {
   "codemirror_mode": {
    "name": "ipython",
    "version": 3
   },
   "file_extension": ".py",
   "mimetype": "text/x-python",
   "name": "python",
   "nbconvert_exporter": "python",
   "pygments_lexer": "ipython3",
   "version": "3.12.4"
  }
 },
 "nbformat": 4,
 "nbformat_minor": 2
}
