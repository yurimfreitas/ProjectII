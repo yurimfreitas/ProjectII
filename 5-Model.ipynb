{
 "cells": [
  {
   "cell_type": "code",
   "execution_count": 1,
   "metadata": {},
   "outputs": [],
   "source": [
    "# packages gerais\n",
    "import pandas as pd\n",
    "import joblib\n",
    "\n",
    "# df_sales_ dataset\n",
    "df_sales_filtered_all = joblib.load('df_sales_filtered_all.pkl')\n",
    "df_sales_filtered_2018_2019 = joblib.load('df_sales_filtered_2018_2019.pkl')\n",
    "df_sales_filtered_2019 = joblib.load('df_sales_filtered_2019.pkl')\n",
    "df_sales_filtered_last_6_month = joblib.load('df_sales_filtered_last_6_month.pkl')"
   ]
  }
 ],
 "metadata": {
  "kernelspec": {
   "display_name": "Python 3",
   "language": "python",
   "name": "python3"
  },
  "language_info": {
   "codemirror_mode": {
    "name": "ipython",
    "version": 3
   },
   "file_extension": ".py",
   "mimetype": "text/x-python",
   "name": "python",
   "nbconvert_exporter": "python",
   "pygments_lexer": "ipython3",
   "version": "3.9.5"
  }
 },
 "nbformat": 4,
 "nbformat_minor": 2
}
